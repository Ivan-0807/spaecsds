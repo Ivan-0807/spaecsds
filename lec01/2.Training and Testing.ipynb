{
 "cells": [
  {
   "cell_type": "markdown",
   "metadata": {
    "colab_type": "text",
    "id": "iUx5dPQDlqIo",
    "slideshow": {
     "slide_type": "slide"
    }
   },
   "source": [
    "# Training and Testing\n",
    "\n",
    "**SPAE-CS-DS A Data Science Short Course**\n",
    "\n",
    "<small>Lecturer: Dr. CHAN, Chung<br>Department of Computer Science</small>\n",
    "___"
   ]
  },
  {
   "cell_type": "markdown",
   "metadata": {
    "slideshow": {
     "slide_type": "slide"
    }
   },
   "source": [
    "## Background"
   ]
  },
  {
   "cell_type": "markdown",
   "metadata": {
    "slideshow": {
     "slide_type": "-"
    }
   },
   "source": [
    "To give an unbiased performance estimate of a learning algorithm of interest, the fundamental principle is \n",
    "\n",
    "> to use separate datasets for training and testing. \n",
    "\n",
    "If there is only one dataset, we should split it into *training sets* and *test sets* by *random sampling* to avoid bias in the performance estimate. This notebook illustrates some methods of splitting the datasets for training and testing."
   ]
  },
  {
   "cell_type": "markdown",
   "metadata": {
    "slideshow": {
     "slide_type": "slide"
    }
   },
   "source": [
    "## Setup"
   ]
  },
  {
   "cell_type": "markdown",
   "metadata": {
    "colab_type": "text",
    "id": "f7HtzrVV0LzF",
    "slideshow": {
     "slide_type": "fragment"
    }
   },
   "source": [
    "We first import the iris dataset from `sklearn` and create a `pandas` dataframe to operate on the dataset. You may review the last notebook on [data preparation](./1.Data%20preparation.ipynb) for the details."
   ]
  },
  {
   "cell_type": "code",
   "execution_count": null,
   "metadata": {
    "slideshow": {
     "slide_type": "subslide"
    }
   },
   "outputs": [],
   "source": [
    "%reset -f\n",
    "from sklearn import datasets\n",
    "import pandas as pd\n",
    "import numpy as np\n",
    "\n",
    "# load the iris dataset from sklearn\n",
    "iris = datasets.load_iris()\n",
    "\n",
    "# Create pandas dataframe\n",
    "iris_df = pd.DataFrame(data = iris.data, # # write the input features\n",
    "                       columns = iris.feature_names)\n",
    "\n",
    "iris_df.insert(len(iris_df.columns), # append the target values\n",
    "               'target',\n",
    "               pd.Categorical(iris.target))\n",
    "\n",
    "iris_df.target.cat.categories = [iris.target_names[i] # give meaningful category names\n",
    "                                 for i in iris_df.target.cat.categories] \n",
    "\n",
    "iris_df # to display the dataframe"
   ]
  },
  {
   "cell_type": "markdown",
   "metadata": {
    "colab_type": "text",
    "id": "28DWumHMNtis",
    "slideshow": {
     "slide_type": "slide"
    }
   },
   "source": [
    "## Stratified holdout method"
   ]
  },
  {
   "cell_type": "markdown",
   "metadata": {
    "slideshow": {
     "slide_type": "fragment"
    }
   },
   "source": [
    "This method randomly samples data for training or testing without replacement. It is implemented by the `train_test_split` function from the `sklearn.model_selection` package."
   ]
  },
  {
   "cell_type": "code",
   "execution_count": null,
   "metadata": {
    "colab": {},
    "colab_type": "code",
    "id": "t3tbDaTINzM4",
    "slideshow": {
     "slide_type": "fragment"
    }
   },
   "outputs": [],
   "source": [
    "from sklearn.model_selection import train_test_split\n",
    "\n",
    "X_train, X_test, Y_train, Y_test = train_test_split(iris_df[iris.feature_names], \n",
    "                                                    iris_df.target, \n",
    "                                                    test_size=0.2, # randomly holdout 20% of data\n",
    "                                                    random_state=1) # random seed.\n",
    "\n",
    "X_train.shape, X_test.shape, Y_train.shape, Y_test.shape # show the dimensions of the training and testing data"
   ]
  },
  {
   "cell_type": "markdown",
   "metadata": {
    "slideshow": {
     "slide_type": "fragment"
    }
   },
   "source": [
    "Note that we have separated the input features and target for the training and test sets. The size of the test set is $\\frac{30}{150}=20\\%$ as intended."
   ]
  },
  {
   "cell_type": "markdown",
   "metadata": {
    "deletable": false,
    "editable": false,
    "nbgrader": {
     "cell_type": "markdown",
     "checksum": "409e51a0538e72356223f2afdf8af1c7",
     "grade": false,
     "grade_id": "cell-9ddf5de51adc0455",
     "locked": true,
     "schema_version": 3,
     "solution": false,
     "task": false
    },
    "slideshow": {
     "slide_type": "subslide"
    }
   },
   "source": [
    "**Exercise** Using the following widget, check whether the class proportion is maintained for the training and test sets. Why is it useful to set the random seed?"
   ]
  },
  {
   "cell_type": "code",
   "execution_count": null,
   "metadata": {
    "slideshow": {
     "slide_type": "-"
    }
   },
   "outputs": [],
   "source": [
    "from ipywidgets import interact\n",
    "from IPython.display import display\n",
    "\n",
    "@interact(data=['iris_df.target','Y_train','Y_test'],seed=(0,5))\n",
    "def class_proportions(data,seed=0):\n",
    "    Y_train, Y_test = train_test_split(iris_df.target,  # need only split the target series for class distribution\n",
    "                                       test_size=0.2,\n",
    "                                       random_state=seed) # set different random seeds.\n",
    "    series = eval(data)\n",
    "    dist = series.value_counts().sort_index()\n",
    "    print('total counts: {:d}'.format(len(series.index)))\n",
    "    display(pd.DataFrame(dist).rename(columns={'target':'count'}))\n",
    "    dist.plot(kind='bar')"
   ]
  },
  {
   "cell_type": "markdown",
   "metadata": {
    "colab_type": "text",
    "id": "I3s4W-epqshv",
    "slideshow": {
     "slide_type": "subslide"
    }
   },
   "source": [
    "Next, we apply the learning algorithm of interest to train a classifier using only the training set. Let's say we want to evaluate the decision tree induction algorithm in `sklearn`."
   ]
  },
  {
   "cell_type": "code",
   "execution_count": null,
   "metadata": {
    "colab": {},
    "colab_type": "code",
    "id": "EllmT0GtOaWi",
    "slideshow": {
     "slide_type": "fragment"
    }
   },
   "outputs": [],
   "source": [
    "from sklearn import tree\n",
    "\n",
    "clf = tree.DecisionTreeClassifier(random_state=0) # the training is also randomized\n",
    "clf.fit(X_train, Y_train) # fit the model to the training set "
   ]
  },
  {
   "cell_type": "markdown",
   "metadata": {
    "slideshow": {
     "slide_type": "subslide"
    }
   },
   "source": [
    "We can use the `predict` method of the classifier to predict the iris species of an instance based on the lengths and widths of its sepals and petals. The following code adds the prediction as a separate column to `iris_df` dataframe."
   ]
  },
  {
   "cell_type": "code",
   "execution_count": null,
   "metadata": {
    "slideshow": {
     "slide_type": "subslide"
    }
   },
   "outputs": [],
   "source": [
    "iris_df['prediction'] = pd.Categorical(clf.predict(iris_df[iris.feature_names]))\n",
    "iris_df"
   ]
  },
  {
   "cell_type": "markdown",
   "metadata": {
    "deletable": false,
    "editable": false,
    "nbgrader": {
     "cell_type": "markdown",
     "checksum": "8e48b4137f3d83c8b91e291cd69a1e98",
     "grade": false,
     "grade_id": "cell-636f739851d02a5d",
     "locked": true,
     "schema_version": 3,
     "solution": false,
     "task": false
    },
    "slideshow": {
     "slide_type": "subslide"
    }
   },
   "source": [
    "**Exercise** Write a function that returns a `DataFrame` containing only tuples with incorrect predictions.\n",
    "\n",
    "*Hint: Use the `loc` method of `DataFrame`.*"
   ]
  },
  {
   "cell_type": "code",
   "execution_count": null,
   "metadata": {
    "deletable": false,
    "nbgrader": {
     "cell_type": "code",
     "checksum": "f78a2f249741b81fabd8691a4febe739",
     "grade": false,
     "grade_id": "cell-f22944e2014b7628",
     "locked": false,
     "schema_version": 3,
     "solution": true,
     "task": false
    },
    "slideshow": {
     "slide_type": "-"
    }
   },
   "outputs": [],
   "source": [
    "def misclassified_instances(df):\n",
    "    \"\"\"\n",
    "    Returns misclassified instances.\n",
    "    \n",
    "    Parameters:\n",
    "    df (pandas.DataFrame): must contain columns 'target' and 'prediction'\n",
    "    \n",
    "    Returns:\n",
    "    pandas.DataFrame: same as df but contains only instances with target not equal to prediction.\n",
    "    \n",
    "    \"\"\"\n",
    "    # YOUR CODE HERE\n",
    "    raise NotImplementedError()\n",
    "    \n",
    "misclassified_instances(iris_df)"
   ]
  },
  {
   "cell_type": "code",
   "execution_count": null,
   "metadata": {
    "deletable": false,
    "editable": false,
    "nbgrader": {
     "cell_type": "code",
     "checksum": "f32bde37c531c1e20e26ea7910e30271",
     "grade": true,
     "grade_id": "cell-fa96cec91040bb1b",
     "locked": true,
     "points": 1,
     "schema_version": 3,
     "solution": false,
     "task": false
    },
    "slideshow": {
     "slide_type": "skip"
    }
   },
   "outputs": [],
   "source": []
  },
  {
   "cell_type": "markdown",
   "metadata": {
    "slideshow": {
     "slide_type": "subslide"
    }
   },
   "source": [
    "To evaluate the performance of the classifier, we will consider only the predictions on the test set. The accuracy can be computed using the `score` method."
   ]
  },
  {
   "cell_type": "code",
   "execution_count": null,
   "metadata": {
    "slideshow": {
     "slide_type": "fragment"
    }
   },
   "outputs": [],
   "source": [
    "print('Accuracy: {:0.3f}'.format(clf.score(X_test, Y_test)))\n",
    "iris_df.loc[X_test.index].loc[lambda df: df['prediction']!=df['target']] # display misclassified instances"
   ]
  },
  {
   "cell_type": "markdown",
   "metadata": {
    "colab_type": "text",
    "deletable": false,
    "editable": false,
    "id": "GWIPcjjEVXh6",
    "nbgrader": {
     "cell_type": "markdown",
     "checksum": "6f68fd4a68159bdda00f62b5c8bc30e0",
     "grade": false,
     "grade_id": "cell-751e3901e448aa34",
     "locked": true,
     "schema_version": 3,
     "solution": false,
     "task": false
    },
    "slideshow": {
     "slide_type": "subslide"
    }
   },
   "source": [
    "**Exercise** Apply random subsampling to compute a better accuracy estimate. In particular, define a function that returns a numpy array of accuracies of $20\\%$ stratified hold-out with random seed set to 0, 1, 2, 4, and 5."
   ]
  },
  {
   "cell_type": "code",
   "execution_count": null,
   "metadata": {
    "deletable": false,
    "nbgrader": {
     "cell_type": "code",
     "checksum": "afee8878f287afd1c9c30e25328c02a5",
     "grade": false,
     "grade_id": "cell-e0c29f116d46e954",
     "locked": false,
     "schema_version": 3,
     "solution": true,
     "task": false
    },
    "slideshow": {
     "slide_type": "-"
    }
   },
   "outputs": [],
   "source": [
    "import numpy as np\n",
    "\n",
    "def random_subsampling_scores():\n",
    "    scores = np.zeros(5)\n",
    "    for seed in range(5):\n",
    "        clf = tree.DecisionTreeClassifier(random_state=seed)\n",
    "        # YOUR CODE HERE\n",
    "        raise NotImplementedError()\n",
    "    return scores\n",
    "\n",
    "print('Accuracy: {:0.3f}'.format(random_subsampling_scores().mean()))"
   ]
  },
  {
   "cell_type": "code",
   "execution_count": null,
   "metadata": {
    "deletable": false,
    "editable": false,
    "nbgrader": {
     "cell_type": "code",
     "checksum": "e671906dd1753a5a3adbab70a66bc185",
     "grade": true,
     "grade_id": "cell-cbb061753ea27873",
     "locked": true,
     "points": 1,
     "schema_version": 3,
     "solution": false,
     "task": false
    },
    "slideshow": {
     "slide_type": "skip"
    }
   },
   "outputs": [],
   "source": []
  },
  {
   "cell_type": "markdown",
   "metadata": {
    "colab_type": "text",
    "id": "LKs-Y_xcaiXJ",
    "slideshow": {
     "slide_type": "slide"
    }
   },
   "source": [
    "## Stratified cross validation"
   ]
  },
  {
   "cell_type": "markdown",
   "metadata": {
    "slideshow": {
     "slide_type": "-"
    }
   },
   "source": [
    "This method randomly split the data into $k$ *folds* (blocks with roughly equal sizes.). The score is the average of the accuracies obtained by using each fold to test a classifier trained using the remaining folds."
   ]
  },
  {
   "cell_type": "markdown",
   "metadata": {
    "slideshow": {
     "slide_type": "-"
    }
   },
   "source": [
    "<center><img src=\"https://upload.wikimedia.org/wikipedia/commons/4/4b/KfoldCV.gif\" style=\"width:600px\" alt=\"Cross validation\"></center>\n"
   ]
  },
  {
   "cell_type": "code",
   "execution_count": null,
   "metadata": {
    "colab": {},
    "colab_type": "code",
    "id": "lkopY_9pj12l",
    "slideshow": {
     "slide_type": "subslide"
    }
   },
   "outputs": [],
   "source": [
    "from sklearn.model_selection import cross_val_predict\n",
    "\n",
    "clf = tree.DecisionTreeClassifier(random_state=0)\n",
    "iris_df['prediction'] = pd.Categorical(cross_val_predict(clf, iris_df[iris.feature_names], iris_df.target, cv=5))\n",
    "iris_df.loc[lambda df: df['target'] != df['prediction']]"
   ]
  },
  {
   "cell_type": "markdown",
   "metadata": {
    "deletable": false,
    "editable": false,
    "nbgrader": {
     "cell_type": "markdown",
     "checksum": "465e9243d6b7dc53223b5a3bba98618d",
     "grade": false,
     "grade_id": "cell-383cc200cc40392a",
     "locked": true,
     "schema_version": 3,
     "solution": false,
     "task": false
    },
    "slideshow": {
     "slide_type": "subslide"
    }
   },
   "source": [
    "**Exercise** Compute the accuracy obtained by the cross validation result above."
   ]
  },
  {
   "cell_type": "code",
   "execution_count": null,
   "metadata": {
    "colab": {},
    "colab_type": "code",
    "deletable": false,
    "id": "ZE5pla5bszpB",
    "nbgrader": {
     "cell_type": "code",
     "checksum": "79a2811b1d7e5cde4d42734b028e951b",
     "grade": false,
     "grade_id": "cell-67c6dcf40c75f9f6",
     "locked": false,
     "schema_version": 3,
     "solution": true,
     "task": false
    },
    "slideshow": {
     "slide_type": "-"
    }
   },
   "outputs": [],
   "source": [
    "def cv_score():\n",
    "    # YOUR CODE HERE\n",
    "    raise NotImplementedError()\n",
    "    return score\n",
    " \n",
    "print('Acurracy: {:0.3f}'.format(cv_score()))"
   ]
  },
  {
   "cell_type": "code",
   "execution_count": null,
   "metadata": {
    "deletable": false,
    "editable": false,
    "nbgrader": {
     "cell_type": "code",
     "checksum": "8eb7d8ab077685ae46a3b1633b2cf7be",
     "grade": true,
     "grade_id": "cell-31755692bbb6c7a4",
     "locked": true,
     "points": 1,
     "schema_version": 3,
     "solution": false,
     "task": false
    },
    "slideshow": {
     "slide_type": "skip"
    }
   },
   "outputs": [],
   "source": []
  },
  {
   "cell_type": "markdown",
   "metadata": {
    "colab_type": "text",
    "id": "0BeaZPDfXMhA",
    "slideshow": {
     "slide_type": "slide"
    }
   },
   "source": [
    "**Exercise** Follow the documentation [here](https://ogrisel.github.io/scikit-learn.org/sklearn-tutorial/modules/generated/sklearn.cross_validation.Bootstrap.html) to explore the boostrap sampling method."
   ]
  },
  {
   "cell_type": "code",
   "execution_count": null,
   "metadata": {
    "colab": {},
    "colab_type": "code",
    "id": "bsMm9VIyT7ys",
    "slideshow": {
     "slide_type": "-"
    }
   },
   "outputs": [],
   "source": [
    "# You may add more cells"
   ]
  },
  {
   "cell_type": "markdown",
   "metadata": {
    "slideshow": {
     "slide_type": "skip"
    }
   },
   "source": [
    "**Feedback**\n",
    "___\n",
    "Your feedback here.\n",
    "\n",
    "___"
   ]
  }
 ],
 "metadata": {
  "kernelspec": {
   "display_name": "Python 3.7",
   "language": "python",
   "name": "python3"
  },
  "language_info": {
   "codemirror_mode": {
    "name": "ipython",
    "version": 3
   },
   "file_extension": ".py",
   "mimetype": "text/x-python",
   "name": "python",
   "nbconvert_exporter": "python",
   "pygments_lexer": "ipython3",
   "version": "3.7.7"
  },
  "rise": {
   "enable_chalkboard": true,
   "scroll": true,
   "theme": "beige"
  }
 },
 "nbformat": 4,
 "nbformat_minor": 4
}
