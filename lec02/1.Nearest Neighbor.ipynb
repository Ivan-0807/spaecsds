{
 "cells": [
  {
   "cell_type": "markdown",
   "metadata": {
    "colab_type": "text",
    "id": "iUx5dPQDlqIo",
    "slideshow": {
     "slide_type": "slide"
    }
   },
   "source": [
    "# Nearest Neighbor Classification\n",
    "\n",
    "**SPAE-CS-DS A Data Science Short Course**\n",
    "\n",
    "<small>Lecturer: Dr. CHAN, Chung<br>Department of Computer Science</small>\n",
    "___"
   ]
  },
  {
   "cell_type": "markdown",
   "metadata": {
    "slideshow": {
     "slide_type": "slide"
    }
   },
   "source": [
    "## Setup"
   ]
  },
  {
   "cell_type": "markdown",
   "metadata": {
    "colab_type": "text",
    "id": "f7HtzrVV0LzF",
    "slideshow": {
     "slide_type": "-"
    }
   },
   "source": [
    "We first import the iris dataset from `sklearn` and create a `pandas` dataframe to operate on the dataset. You may review the notebook on [data preparation](../lec01/1.Data%20preparation.ipynb) for the details."
   ]
  },
  {
   "cell_type": "code",
   "execution_count": 1,
   "metadata": {
    "slideshow": {
     "slide_type": "-"
    }
   },
   "outputs": [
    {
     "data": {
      "text/html": [
       "<div>\n",
       "<style scoped>\n",
       "    .dataframe tbody tr th:only-of-type {\n",
       "        vertical-align: middle;\n",
       "    }\n",
       "\n",
       "    .dataframe tbody tr th {\n",
       "        vertical-align: top;\n",
       "    }\n",
       "\n",
       "    .dataframe thead th {\n",
       "        text-align: right;\n",
       "    }\n",
       "</style>\n",
       "<table border=\"1\" class=\"dataframe\">\n",
       "  <thead>\n",
       "    <tr style=\"text-align: right;\">\n",
       "      <th></th>\n",
       "      <th>sepal length (cm)</th>\n",
       "      <th>sepal width (cm)</th>\n",
       "      <th>petal length (cm)</th>\n",
       "      <th>petal width (cm)</th>\n",
       "      <th>target</th>\n",
       "    </tr>\n",
       "  </thead>\n",
       "  <tbody>\n",
       "    <tr>\n",
       "      <th>0</th>\n",
       "      <td>5.1</td>\n",
       "      <td>3.5</td>\n",
       "      <td>1.4</td>\n",
       "      <td>0.2</td>\n",
       "      <td>setosa</td>\n",
       "    </tr>\n",
       "    <tr>\n",
       "      <th>1</th>\n",
       "      <td>4.9</td>\n",
       "      <td>3.0</td>\n",
       "      <td>1.4</td>\n",
       "      <td>0.2</td>\n",
       "      <td>setosa</td>\n",
       "    </tr>\n",
       "    <tr>\n",
       "      <th>2</th>\n",
       "      <td>4.7</td>\n",
       "      <td>3.2</td>\n",
       "      <td>1.3</td>\n",
       "      <td>0.2</td>\n",
       "      <td>setosa</td>\n",
       "    </tr>\n",
       "    <tr>\n",
       "      <th>3</th>\n",
       "      <td>4.6</td>\n",
       "      <td>3.1</td>\n",
       "      <td>1.5</td>\n",
       "      <td>0.2</td>\n",
       "      <td>setosa</td>\n",
       "    </tr>\n",
       "    <tr>\n",
       "      <th>4</th>\n",
       "      <td>5.0</td>\n",
       "      <td>3.6</td>\n",
       "      <td>1.4</td>\n",
       "      <td>0.2</td>\n",
       "      <td>setosa</td>\n",
       "    </tr>\n",
       "    <tr>\n",
       "      <th>...</th>\n",
       "      <td>...</td>\n",
       "      <td>...</td>\n",
       "      <td>...</td>\n",
       "      <td>...</td>\n",
       "      <td>...</td>\n",
       "    </tr>\n",
       "    <tr>\n",
       "      <th>145</th>\n",
       "      <td>6.7</td>\n",
       "      <td>3.0</td>\n",
       "      <td>5.2</td>\n",
       "      <td>2.3</td>\n",
       "      <td>virginica</td>\n",
       "    </tr>\n",
       "    <tr>\n",
       "      <th>146</th>\n",
       "      <td>6.3</td>\n",
       "      <td>2.5</td>\n",
       "      <td>5.0</td>\n",
       "      <td>1.9</td>\n",
       "      <td>virginica</td>\n",
       "    </tr>\n",
       "    <tr>\n",
       "      <th>147</th>\n",
       "      <td>6.5</td>\n",
       "      <td>3.0</td>\n",
       "      <td>5.2</td>\n",
       "      <td>2.0</td>\n",
       "      <td>virginica</td>\n",
       "    </tr>\n",
       "    <tr>\n",
       "      <th>148</th>\n",
       "      <td>6.2</td>\n",
       "      <td>3.4</td>\n",
       "      <td>5.4</td>\n",
       "      <td>2.3</td>\n",
       "      <td>virginica</td>\n",
       "    </tr>\n",
       "    <tr>\n",
       "      <th>149</th>\n",
       "      <td>5.9</td>\n",
       "      <td>3.0</td>\n",
       "      <td>5.1</td>\n",
       "      <td>1.8</td>\n",
       "      <td>virginica</td>\n",
       "    </tr>\n",
       "  </tbody>\n",
       "</table>\n",
       "<p>150 rows × 5 columns</p>\n",
       "</div>"
      ],
      "text/plain": [
       "     sepal length (cm)  sepal width (cm)  petal length (cm)  petal width (cm)  \\\n",
       "0                  5.1               3.5                1.4               0.2   \n",
       "1                  4.9               3.0                1.4               0.2   \n",
       "2                  4.7               3.2                1.3               0.2   \n",
       "3                  4.6               3.1                1.5               0.2   \n",
       "4                  5.0               3.6                1.4               0.2   \n",
       "..                 ...               ...                ...               ...   \n",
       "145                6.7               3.0                5.2               2.3   \n",
       "146                6.3               2.5                5.0               1.9   \n",
       "147                6.5               3.0                5.2               2.0   \n",
       "148                6.2               3.4                5.4               2.3   \n",
       "149                5.9               3.0                5.1               1.8   \n",
       "\n",
       "        target  \n",
       "0       setosa  \n",
       "1       setosa  \n",
       "2       setosa  \n",
       "3       setosa  \n",
       "4       setosa  \n",
       "..         ...  \n",
       "145  virginica  \n",
       "146  virginica  \n",
       "147  virginica  \n",
       "148  virginica  \n",
       "149  virginica  \n",
       "\n",
       "[150 rows x 5 columns]"
      ]
     },
     "execution_count": 1,
     "metadata": {},
     "output_type": "execute_result"
    }
   ],
   "source": [
    "%reset -f\n",
    "from sklearn import datasets\n",
    "import pandas as pd\n",
    "import numpy as np\n",
    "\n",
    "# load the iris dataset from sklearn\n",
    "iris = datasets.load_iris()\n",
    "\n",
    "# Create pandas dataframe\n",
    "iris_df = pd.DataFrame(data = iris.data, # # write the input features\n",
    "                       columns = iris.feature_names)\n",
    "\n",
    "iris_df.insert(len(iris_df.columns), # append the target values\n",
    "               'target',\n",
    "               pd.Categorical(iris.target))\n",
    "\n",
    "iris_df.target.cat.categories = [iris.target_names[i] # give meaningful category names\n",
    "                                 for i in iris_df.target.cat.categories] \n",
    "\n",
    "iris_df # to display the dataframe"
   ]
  },
  {
   "cell_type": "markdown",
   "metadata": {
    "slideshow": {
     "slide_type": "slide"
    }
   },
   "source": [
    "We first also setup the plot environment as follows."
   ]
  },
  {
   "cell_type": "code",
   "execution_count": 2,
   "metadata": {
    "slideshow": {
     "slide_type": "-"
    }
   },
   "outputs": [],
   "source": [
    "# setup plot environment to use vector graphics\n",
    "%matplotlib inline\n",
    "import my\n",
    "my.output_svg()"
   ]
  },
  {
   "cell_type": "markdown",
   "metadata": {
    "slideshow": {
     "slide_type": "fragment"
    }
   },
   "source": [
    "In the above, we use the function `output_svg` from `my` module to setup the plot environment. What does it do?"
   ]
  },
  {
   "cell_type": "code",
   "execution_count": null,
   "metadata": {
    "slideshow": {
     "slide_type": "-"
    }
   },
   "outputs": [],
   "source": [
    "help(my.output_svg)"
   ]
  },
  {
   "cell_type": "markdown",
   "metadata": {
    "slideshow": {
     "slide_type": "subslide"
    }
   },
   "source": [
    "If you try printing the docstring of `output_svg`, you will find that it is empty. To learn more information of a function, we can print the source code of `output_svg` as follows."
   ]
  },
  {
   "cell_type": "code",
   "execution_count": null,
   "metadata": {
    "slideshow": {
     "slide_type": "-"
    }
   },
   "outputs": [],
   "source": [
    "import inspect\n",
    "print(inspect.getsource(my.output_svg))"
   ]
  },
  {
   "cell_type": "markdown",
   "metadata": {
    "deletable": false,
    "editable": false,
    "nbgrader": {
     "cell_type": "markdown",
     "checksum": "2a3b09412d8a0d0a09285d22ab157c82",
     "grade": false,
     "grade_id": "cell-9400245d2ecf9b2d",
     "locked": true,
     "schema_version": 3,
     "solution": false,
     "task": false
    },
    "slideshow": {
     "slide_type": "fragment"
    }
   },
   "source": [
    "**Exercise** What is the purpose of the function? Why would we want to use it?\n",
    "\n",
    "*Hint: See the [documentation](set_matplotlib_formats) of `set_matplotlib_formats` in the last line of the code.*"
   ]
  },
  {
   "cell_type": "markdown",
   "metadata": {
    "slideshow": {
     "slide_type": "subslide"
    }
   },
   "source": [
    "We can also print the file containing the source code of `output_svg` as follows."
   ]
  },
  {
   "cell_type": "code",
   "execution_count": null,
   "metadata": {
    "slideshow": {
     "slide_type": "-"
    }
   },
   "outputs": [],
   "source": [
    "print(inspect.getfile(my.output_svg))"
   ]
  },
  {
   "cell_type": "markdown",
   "metadata": {
    "slideshow": {
     "slide_type": "fragment"
    }
   },
   "source": [
    "Note that the function `output_svg` is defined in the file `my.py` in the current directory. In general, you can create any file `<module_name>.py` and import it with `import <module_name>`."
   ]
  },
  {
   "cell_type": "markdown",
   "metadata": {
    "deletable": false,
    "editable": false,
    "nbgrader": {
     "cell_type": "markdown",
     "checksum": "69cd3cb9f3984d593cdcab30e372b5c8",
     "grade": false,
     "grade_id": "cell-a0a30e7ec4dfafc4",
     "locked": true,
     "schema_version": 3,
     "solution": false,
     "task": false
    },
    "slideshow": {
     "slide_type": "fragment"
    }
   },
   "source": [
    "**Exercise** Edit the file `my.py` to include add a docstring using triple single/double quotes `\"\"\"`. To do so, open the file using *JupyterLab* by changing the url as mentioned in the [documentation](https://jupyterlab.readthedocs.io/en/stable/getting_started/starting.html). After you have edited and saved the file, reload the module with the following code."
   ]
  },
  {
   "cell_type": "code",
   "execution_count": null,
   "metadata": {
    "slideshow": {
     "slide_type": "-"
    }
   },
   "outputs": [],
   "source": [
    "from importlib import reload\n",
    "\n",
    "reload(my)\n",
    "help(my.output_svg)"
   ]
  },
  {
   "cell_type": "markdown",
   "metadata": {
    "slideshow": {
     "slide_type": "slide"
    }
   },
   "source": [
    "### Constructing nearest-neighbor classifier"
   ]
  },
  {
   "cell_type": "markdown",
   "metadata": {
    "colab_type": "text",
    "id": "JeK6a6aHZ07k",
    "slideshow": {
     "slide_type": "-"
    }
   },
   "source": [
    "The following create a 1-nearest-neighbor (1NN) classifier using the [`sklean.neighbors` module](https://scikit-learn.org/stable/auto_examples/neighbors/plot_classification.html#sphx-glr-auto-examples-neighbors-plot-classification-py)."
   ]
  },
  {
   "cell_type": "code",
   "execution_count": null,
   "metadata": {
    "slideshow": {
     "slide_type": "-"
    }
   },
   "outputs": [],
   "source": [
    "from sklearn.neighbors import KNeighborsClassifier\n",
    "\n",
    "clf_1NN = KNeighborsClassifier(n_neighbors=1)"
   ]
  },
  {
   "cell_type": "markdown",
   "metadata": {
    "slideshow": {
     "slide_type": "fragment"
    }
   },
   "source": [
    "Before it can be used for classification, the classifier has to be trained (updated) use the [`fit` method](https://scikit-learn.org/stable/modules/generated/sklearn.neighbors.NearestNeighbors.html#sklearn.neighbors.NearestNeighbors.fit). The following train the classifer using the entire iris dataset."
   ]
  },
  {
   "cell_type": "code",
   "execution_count": null,
   "metadata": {
    "slideshow": {
     "slide_type": "-"
    }
   },
   "outputs": [],
   "source": [
    "X = iris_df.loc[:,lambda df: ~df.columns.isin(['target'])]\n",
    "Y = iris_df.target\n",
    "clf_1NN.fit(X,Y)"
   ]
  },
  {
   "cell_type": "markdown",
   "metadata": {
    "slideshow": {
     "slide_type": "subslide"
    }
   },
   "source": [
    "The classifier can now classify using the `predict` method."
   ]
  },
  {
   "cell_type": "code",
   "execution_count": null,
   "metadata": {
    "slideshow": {
     "slide_type": "-"
    }
   },
   "outputs": [],
   "source": [
    "clf_1NN.predict([[1,1,1,1],[2,2,2,2]])"
   ]
  },
  {
   "cell_type": "markdown",
   "metadata": {
    "slideshow": {
     "slide_type": "subslide"
    }
   },
   "source": [
    "We can also return the accuracy of the classifier using its `score` method."
   ]
  },
  {
   "cell_type": "code",
   "execution_count": null,
   "metadata": {
    "slideshow": {
     "slide_type": "-"
    }
   },
   "outputs": [],
   "source": [
    "print('Accuracy: {:0.2f}'.format(clf_1NN.score(X,Y)))"
   ]
  },
  {
   "cell_type": "markdown",
   "metadata": {
    "deletable": false,
    "editable": false,
    "nbgrader": {
     "cell_type": "markdown",
     "checksum": "b1e3693fe251193ac7e5db9c82b329fd",
     "grade": false,
     "grade_id": "cell-1daa0871ce0effa4",
     "locked": true,
     "schema_version": 3,
     "solution": false,
     "task": false
    },
    "slideshow": {
     "slide_type": "fragment"
    }
   },
   "source": [
    "**Exercise** Explain in the following cell whether the above accuracy is unbiased?"
   ]
  },
  {
   "cell_type": "markdown",
   "metadata": {
    "slideshow": {
     "slide_type": "-"
    }
   },
   "source": [
    "**Answer** Your answer here."
   ]
  },
  {
   "cell_type": "markdown",
   "metadata": {
    "slideshow": {
     "slide_type": "slide"
    }
   },
   "source": [
    "## Visualizing the decision boundary"
   ]
  },
  {
   "cell_type": "markdown",
   "metadata": {
    "slideshow": {
     "slide_type": "-"
    }
   },
   "source": [
    "A great way to learn more about a classifier is to plot its decision boundary. As we cannot see things beyond 3D, and the computer cannot easily display things beyond 2D, we will have to limit the classifier to use only 2 input features."
   ]
  },
  {
   "cell_type": "markdown",
   "metadata": {
    "deletable": false,
    "editable": false,
    "nbgrader": {
     "cell_type": "markdown",
     "checksum": "d27738c397bc7e0b1e306dfd0a2191fe",
     "grade": false,
     "grade_id": "cell-a55865df24a3ad43",
     "locked": true,
     "schema_version": 3,
     "solution": false,
     "task": false
    },
    "slideshow": {
     "slide_type": "subslide"
    }
   },
   "source": [
    "**Exercise** Complete the following code to train a kNN classifier `clf` with the selected input features and the choice of number of neighbors `k`. You should see a plot like the following:\n",
    "<center><img src=\"./kNN.svg\" alt=\"kNN boundary\"></center>\n",
    "\n",
    "*Note: The code uses `plot_decision_regions` defined in `my`. A similar function is provided by `mlxtend.plotting` module but that does not work well with DataFrame.*\n",
    "\n",
    "*Challenge: The higher the resolution, the longer the time to plot. How to improve the code to cache the generated plots and block users from switching parameters before the last plotting completes?*"
   ]
  },
  {
   "cell_type": "code",
   "execution_count": null,
   "metadata": {
    "colab": {
     "base_uri": "https://localhost:8080/",
     "height": 67
    },
    "colab_type": "code",
    "deletable": false,
    "id": "Kq8sruV8U7ra",
    "nbgrader": {
     "cell_type": "code",
     "checksum": "25766dc2e9d9609b938c32c51b6bbdab",
     "grade": false,
     "grade_id": "cell-c36fd817334f14bc",
     "locked": false,
     "schema_version": 3,
     "solution": true,
     "task": false
    },
    "outputId": "0204778a-96c1-412e-a1c5-e715c98e820f",
    "slideshow": {
     "slide_type": "-"
    }
   },
   "outputs": [],
   "source": [
    "from ipywidgets import interact\n",
    "import ipywidgets as widgets\n",
    "from matplotlib import pyplot as plt\n",
    "\n",
    "@interact(feature1=iris.feature_names,\n",
    "          feature2=iris.feature_names,\n",
    "          k=widgets.IntSlider(1,1,5,continuous_update=False),\n",
    "          resolution=widgets.IntSlider(1,1,4,continuous_update=False))\n",
    "def decision_regions_1NN(feature1=iris.feature_names[0],\n",
    "                         feature2=iris.feature_names[1],\n",
    "                         k=1,\n",
    "                         resolution=1):\n",
    "    X = iris_df[[feature1,feature2]]\n",
    "    Y = iris_df.target\n",
    "    # YOUR CODE HERE\n",
    "    raise NotImplementedError()\n",
    "    ax = my.plot_decision_regions(X, Y, clf, N=resolution*100)\n",
    "    ax.set_title('Decision region for {:d}-NN'.format(k))\n",
    "    #plt.savefig('kNN.svg')"
   ]
  },
  {
   "cell_type": "markdown",
   "metadata": {},
   "source": []
  },
  {
   "cell_type": "markdown",
   "metadata": {
    "slideshow": {
     "slide_type": "slide"
    }
   },
   "source": [
    "## Feature Selection"
   ]
  },
  {
   "cell_type": "markdown",
   "metadata": {
    "slideshow": {
     "slide_type": "-"
    }
   },
   "source": [
    "In the last section, we select two input features to train the visualize a classifier. Indeed, selecting good subset of features for classification is a standard data preprocessing step. It not only speed up the training process, but it can also improve the accuracy. "
   ]
  },
  {
   "cell_type": "markdown",
   "metadata": {
    "slideshow": {
     "slide_type": "subslide"
    }
   },
   "source": [
    "Suppose we want to select the best two input features for training 1NN. To have a rough idea of which pairs of features are good, we can use the `pairplot` function in `seaborn` to generate a matrix of scatter plots of different pairs of features."
   ]
  },
  {
   "cell_type": "markdown",
   "metadata": {
    "deletable": false,
    "editable": false,
    "nbgrader": {
     "cell_type": "markdown",
     "checksum": "5c1cbd12183bbb5d7f619d1249d225a5",
     "grade": false,
     "grade_id": "cell-6b71a84714b99d7e",
     "locked": true,
     "schema_version": 3,
     "solution": false,
     "task": false
    },
    "slideshow": {
     "slide_type": "fragment"
    }
   },
   "source": [
    "**Exercise** Use the `hue` parameter to give color-code the data points according to their classes. In addition, use the `plot_kws` parameter to make the data points transparent with `alpha` equal to 0.5, so that we can see overlapping points."
   ]
  },
  {
   "cell_type": "code",
   "execution_count": null,
   "metadata": {
    "deletable": false,
    "nbgrader": {
     "cell_type": "code",
     "checksum": "603413bb303ff90bb0f9041a55232523",
     "grade": false,
     "grade_id": "cell-cc8c5b772f6430aa",
     "locked": false,
     "schema_version": 3,
     "solution": true,
     "task": false
    },
    "slideshow": {
     "slide_type": "-"
    }
   },
   "outputs": [],
   "source": [
    "import seaborn as sns\n",
    "\n",
    "iris_pp = sns.pairplot(iris_df, \n",
    "                       corner=True, \n",
    "                       # YOUR CODE HERE\n",
    "                       raise NotImplementedError()\n",
    "                       ) "
   ]
  },
  {
   "cell_type": "markdown",
   "metadata": {
    "deletable": false,
    "editable": false,
    "nbgrader": {
     "cell_type": "markdown",
     "checksum": "d51375195560bd6a597227fd1c38c074",
     "grade": false,
     "grade_id": "cell-734d6d889b93cade",
     "locked": true,
     "schema_version": 3,
     "solution": false,
     "task": false
    },
    "slideshow": {
     "slide_type": "fragment"
    }
   },
   "source": [
    "**Exercise** Which pairs of input features will likely give the worst performance for 1NN classification? Are there any misclassified points according to the plot of the decision regions earlier?"
   ]
  },
  {
   "cell_type": "markdown",
   "metadata": {
    "slideshow": {
     "slide_type": "subslide"
    }
   },
   "source": [
    "We will use the so-called *wrapper method* to select the best feature pair. The idea is simple:\n",
    "\n",
    "> pick the feature subset that gives the best performance. "
   ]
  },
  {
   "cell_type": "markdown",
   "metadata": {
    "deletable": false,
    "editable": false,
    "nbgrader": {
     "cell_type": "markdown",
     "checksum": "8b044051ee74889824a1988d798d35f4",
     "grade": false,
     "grade_id": "cell-490fd69b15637b4a",
     "locked": true,
     "schema_version": 3,
     "solution": false,
     "task": false
    },
    "slideshow": {
     "slide_type": "subslide"
    }
   },
   "source": [
    "**Exercise** Use `cross_val_score` from `sklearn.model_selection` to create a score matrix containing the mean accuracies from $5$-fold cross validation. To ensure your answer is reproducible, we will set the `random_state` to $0$ with `StratifiedKFold`. You will need to set the parameter `cv` properly when calling `cross_val_score`."
   ]
  },
  {
   "cell_type": "code",
   "execution_count": null,
   "metadata": {
    "deletable": false,
    "nbgrader": {
     "cell_type": "code",
     "checksum": "c15a20c47756e846593657a28c560ad5",
     "grade": false,
     "grade_id": "cell-c627aa203e0d5ce4",
     "locked": false,
     "schema_version": 3,
     "solution": true,
     "task": false
    },
    "slideshow": {
     "slide_type": "-"
    }
   },
   "outputs": [],
   "source": [
    "from sklearn.model_selection import cross_val_score, StratifiedKFold\n",
    "\n",
    "score_matrix = pd.DataFrame(0,columns=iris.feature_names,index=iris.feature_names)\n",
    "clf = KNeighborsClassifier(n_neighbors = 1)\n",
    "\n",
    "for i in range(len(iris.feature_names)):\n",
    "    for j in range(i):\n",
    "        X = iris_df.iloc[:,[i,j]]\n",
    "        Y = iris_df.target\n",
    "        cv = StratifiedKFold(shuffle=True,random_state=0) \n",
    "        clf.fit(X,Y)\n",
    "        # YOUR CODE HERE\n",
    "        raise NotImplementedError()\n",
    "        score_matrix.iloc[j,i] = score_matrix.iloc[i,j] # by symmetry\n",
    "        \n",
    "score_matrix"
   ]
  },
  {
   "cell_type": "markdown",
   "metadata": {
    "deletable": false,
    "editable": false,
    "nbgrader": {
     "cell_type": "markdown",
     "checksum": "5e66640c6b64e390663bf4af321e58d0",
     "grade": false,
     "grade_id": "cell-74c5e6b3eff94641",
     "locked": true,
     "schema_version": 3,
     "solution": false,
     "task": false
    },
    "slideshow": {
     "slide_type": "subslide"
    }
   },
   "source": [
    "**Exercise** Use the method `max` and `idxmax` of `DataFrame` to return the best feature pair and the maximum score for given a score matrix. If there are multiple optimal feature pairs, return just one pair of them."
   ]
  },
  {
   "cell_type": "code",
   "execution_count": null,
   "metadata": {
    "deletable": false,
    "nbgrader": {
     "cell_type": "code",
     "checksum": "b1cefb9e764697b749554d43eb91d26a",
     "grade": false,
     "grade_id": "cell-1047cf64699e2feb",
     "locked": false,
     "schema_version": 3,
     "solution": true,
     "task": false
    },
    "slideshow": {
     "slide_type": "-"
    }
   },
   "outputs": [],
   "source": [
    "def best_feature_pair(score_matrix):\n",
    "    max_score_over_cols = score_matrix.max() # max across columns\n",
    "    # YOUR CODE HERE\n",
    "    raise NotImplementedError()\n",
    "    return (best_feature1, best_feature2, max_score)\n",
    "\n",
    "best_feature1, best_feature2, max_score = best_feature_pair(score_matrix)\n",
    "print('The best feature pair is ({:s},{:s}) with maximum score {:0.2f}.'\n",
    "      .format(best_feature1,best_feature2,max_score))"
   ]
  },
  {
   "cell_type": "code",
   "execution_count": null,
   "metadata": {
    "deletable": false,
    "editable": false,
    "nbgrader": {
     "cell_type": "code",
     "checksum": "4fb90b6bdb29d635d5df5bb5bb7fa056",
     "grade": true,
     "grade_id": "cell-d0b7bd287b6a0fd2",
     "locked": true,
     "points": 1,
     "schema_version": 3,
     "solution": false,
     "task": false
    },
    "slideshow": {
     "slide_type": "-"
    }
   },
   "outputs": [],
   "source": []
  },
  {
   "cell_type": "markdown",
   "metadata": {
    "deletable": false,
    "editable": false,
    "nbgrader": {
     "cell_type": "markdown",
     "checksum": "37fa57ab4faca5f94b1354ca2431d66e",
     "grade": false,
     "grade_id": "cell-32291ef036219cd5",
     "locked": true,
     "schema_version": 3,
     "solution": false,
     "task": false
    },
    "slideshow": {
     "slide_type": "fragment"
    }
   },
   "source": [
    "**Exercise** Explain whether the maximum score is an unbiased estimate of the performance of the selected model?\n",
    "\n",
    "*Hint: This is the motivation for using a validation set in addition to a test set.*"
   ]
  },
  {
   "cell_type": "markdown",
   "metadata": {
    "slideshow": {
     "slide_type": "fragment"
    }
   },
   "source": [
    "**Exercise** What if we would like to select more 2 features, or choose the optimal number of features? How about tuning the value of the parameter $k$ as well?\n",
    "\n",
    "*Hint: See the scikit-learn toolboxes and guides on [feature selection](https://scikit-learn.org/stable/modules/classes.html#module-sklearn.feature_selection) and [model selection](https://scikit-learn.org/stable/modules/classes.html#module-sklearn.model_selection).*"
   ]
  }
 ],
 "metadata": {
  "kernelspec": {
   "display_name": "Python 3.7",
   "language": "python",
   "name": "python3"
  },
  "language_info": {
   "codemirror_mode": {
    "name": "ipython",
    "version": 3
   },
   "file_extension": ".py",
   "mimetype": "text/x-python",
   "name": "python",
   "nbconvert_exporter": "python",
   "pygments_lexer": "ipython3",
   "version": "3.7.7"
  },
  "rise": {
   "enable_chalkboard": true,
   "scroll": true,
   "theme": "beige"
  }
 },
 "nbformat": 4,
 "nbformat_minor": 4
}
